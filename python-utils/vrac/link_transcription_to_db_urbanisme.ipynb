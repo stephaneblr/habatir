{
 "cells": [
  {
   "cell_type": "markdown",
   "metadata": {},
   "source": [
    "### Python_parser v0\n",
    "\n",
    "Python_parser using gsheets as CRUD DB. \n",
    "\n",
    "Need to enable Drive and Sheets API, then share the spreadsheets. \n",
    "\n",
    "Interaction are made through pygsheets library. \n",
    "\n",
    "### Full documentation :  \n",
    "\n",
    "http://pygsheets.readthedocs.io/en/latest/spreadsheet.html"
   ]
  },
  {
   "cell_type": "code",
   "execution_count": 10,
   "metadata": {},
   "outputs": [
    {
     "name": "stdout",
     "output_type": "stream",
     "text": [
      "Python_parser is now connected with Drive API and Sheets API.\n",
      "\n",
      "\n",
      "Generation completed\n"
     ]
    }
   ],
   "source": [
    "import pygsheets\n",
    "gc = pygsheets.authorize(service_file='/Users/stephaneblondellarougery/Desktop/client_secret/client_secret_python_utils.json')\n",
    "print('Python_parser is now connected with Drive API and Sheets API.\\n')    \n",
    "\n",
    "# define the spreadsheets to open\n",
    "db = gc.open(\"transcription_vban_db\")\n",
    "db_urbanisme = gc.open(\"db_urbanisme\")\n",
    "\n",
    "print('\\nGeneration completed')"
   ]
  },
  {
   "cell_type": "markdown",
   "metadata": {},
   "source": [
    "### 1. Delete useless rows of a table"
   ]
  },
  {
   "cell_type": "code",
   "execution_count": null,
   "metadata": {},
   "outputs": [],
   "source": [
    "db_condition = db.worksheet('index',5)\n",
    "matrix_condition = db_condition.get_all_values()"
   ]
  },
  {
   "cell_type": "code",
   "execution_count": null,
   "metadata": {},
   "outputs": [],
   "source": [
    "def is_useless_row(row):   \n",
    "    c = 0   \n",
    "    for i in range(1,len(row)):\n",
    "        cell = row[i]\n",
    "        if cell != \"NULL\":\n",
    "            if cell != \"\":\n",
    "                c += 1\n",
    "                \n",
    "    return c == 0\n",
    "\n",
    "\n",
    "\n",
    "def get_list_useless_row(matrix):\n",
    "    L = []\n",
    "    for i in range(1,len(matrix)):\n",
    "        row = matrix[i]\n",
    "        if is_useless_row(row):\n",
    "            L.append(i)\n",
    "            \n",
    "    return L"
   ]
  },
  {
   "cell_type": "code",
   "execution_count": null,
   "metadata": {},
   "outputs": [],
   "source": [
    "# First, we use the functions above to get the list of rows we need to delete\n",
    "# Python list, starts from 0 ! \n",
    "\n",
    "list_useless_row = get_list_useless_row(matrix_condition)\n",
    "\n",
    "\n",
    "\n",
    "# Then we use GSheet API to effectively delete the useless rows\n",
    "\n",
    "correction = 0\n",
    "for index in list_useless_row:\n",
    "    db_condition.delete_rows(index+1-correction, number=1)\n",
    "    print(matrix_condition[index])\n",
    "    correction += 1\n"
   ]
  },
  {
   "cell_type": "code",
   "execution_count": null,
   "metadata": {},
   "outputs": [],
   "source": [
    "# Check there is no more useless row left\n",
    "\n",
    "list_useless_row = get_list_useless_row(matrix_condition)\n",
    "print(list_useless_row == [])"
   ]
  },
  {
   "cell_type": "markdown",
   "metadata": {},
   "source": [
    "### 2. Translate \"element\" to \"id\"\n",
    "\n",
    "We keep the element in the table for better visualisation"
   ]
  },
  {
   "cell_type": "code",
   "execution_count": null,
   "metadata": {},
   "outputs": [],
   "source": [
    "### Nth DICTIONARY\n",
    "\n",
    "\n",
    "# Acces the worksheets\n",
    "\n",
    "db_ = db_.worksheet('index',index_n)\n",
    "\n",
    "\n",
    "\n",
    "# Extract data matrix, in order to use the API as few as possible\n",
    "\n",
    "temporary_n = db_.get_all_values()\n",
    "\n",
    "\n",
    "\n",
    "# Create dictionaries where \"element\" is key / \"id\" is value\n",
    "\n",
    "key_2 = []\n",
    "for row in temporary_1:\n",
    "    key_2.append(row[2])\n",
    "key_2 = key_2[1:]\n",
    "\n",
    "value_2 = []\n",
    "for row in temporary_1:\n",
    "    value_2.append(row[0])\n",
    "value_2 = value_2[1:]\n",
    "\n",
    "DICT_TO_RENAME = {k:v for k, v in zip(key_2, value_2)}"
   ]
  },
  {
   "cell_type": "code",
   "execution_count": 2,
   "metadata": {},
   "outputs": [],
   "source": [
    "### FIRST DICTIONARY\n",
    "\n",
    "\n",
    "# Acces the worksheets\n",
    "\n",
    "db_urbanisme_destination_2 = db_urbanisme.worksheet('index',1)\n",
    "\n",
    "\n",
    "\n",
    "# Extract data matrix, in order to use the API as few as possible\n",
    "\n",
    "temporary_1 = db_urbanisme_destination_2.get_all_values()\n",
    "\n",
    "\n",
    "\n",
    "# Create dictionaries where \"element\" is key / \"id\" is value\n",
    "\n",
    "key_1 = []\n",
    "for row in temporary_1:\n",
    "    key_1.append(row[2])\n",
    "key_1 = key_1[1:]\n",
    "\n",
    "value_1 = []\n",
    "for row in temporary_1:\n",
    "    value_1.append(row[0])\n",
    "value_1 = value_1[1:]\n",
    "\n",
    "DESTINATION_2 = {k:v for k, v in zip(key_1, value_1)}"
   ]
  },
  {
   "cell_type": "code",
   "execution_count": 3,
   "metadata": {},
   "outputs": [],
   "source": [
    "### SECOND DICTIONARY\n",
    "\n",
    "\n",
    "# Acces the worksheets\n",
    "\n",
    "db_variable = db_urbanisme.worksheet('index',3)\n",
    "\n",
    "\n",
    "\n",
    "# Extract data matrix, in order to use the API as few as possible\n",
    "\n",
    "temporary_2 = db_variable.get_all_values()\n",
    "\n",
    "\n",
    "\n",
    "# Create dictionaries where \"element\" is key / \"id\" is value\n",
    "\n",
    "key_2 = []\n",
    "for row in temporary_2:\n",
    "    key_2.append(row[4])\n",
    "key_2 = key_2[1:]\n",
    "\n",
    "value_2 = []\n",
    "for row in temporary_2:\n",
    "    value_2.append(row[0])\n",
    "value_2 = value_2[1:]\n",
    "\n",
    "VARIABLE = {k:v for k, v in zip(key_2, value_2)}"
   ]
  },
  {
   "cell_type": "code",
   "execution_count": 4,
   "metadata": {},
   "outputs": [],
   "source": [
    "### THIRD DICTIONARY\n",
    "\n",
    "\n",
    "# Acces the worksheets\n",
    "\n",
    "db_vdc = db_urbanisme.worksheet('index',5)\n",
    "\n",
    "\n",
    "\n",
    "# Extract data matrix, in order to use the API as few as possible\n",
    "\n",
    "temporary_3 = db_vdc.get_all_values()\n",
    "\n",
    "\n",
    "\n",
    "# Create dictionaries where \"element\" is key / \"id\" is value\n",
    "\n",
    "key_3 = []\n",
    "for row in temporary_3:\n",
    "    key_3.append(row[2])\n",
    "key_3 = key_3[1:]\n",
    "\n",
    "value_3 = []\n",
    "for row in temporary_3:\n",
    "    value_3.append(row[0])\n",
    "value_3 = value_3[1:]\n",
    "\n",
    "VDC = {k:v for k, v in zip(key_3, value_3)}"
   ]
  },
  {
   "cell_type": "markdown",
   "metadata": {},
   "source": [
    "Now we can update id cells by evaluating element cells."
   ]
  },
  {
   "cell_type": "markdown",
   "metadata": {},
   "source": [
    "##### A) Contexte"
   ]
  },
  {
   "cell_type": "code",
   "execution_count": null,
   "metadata": {},
   "outputs": [],
   "source": [
    "# Acces the worksheet\n",
    "\n",
    "db_contexte = db.worksheet('index',4)"
   ]
  },
  {
   "cell_type": "code",
   "execution_count": null,
   "metadata": {},
   "outputs": [],
   "source": [
    "# Get the element list\n",
    "\n",
    "list_is = db_contexte.get_col(6, returnas='matrix', include_tailing_empty=True)\n",
    "list_is = list_is[1:]\n",
    "\n",
    "list_from = db_contexte.get_col(8, returnas='matrix', include_tailing_empty=True)\n",
    "list_from = list_from[1:]\n",
    "\n",
    "list_to = db_contexte.get_col(10, returnas='matrix', include_tailing_empty=True)\n",
    "list_to = list_to[1:]"
   ]
  },
  {
   "cell_type": "code",
   "execution_count": null,
   "metadata": {},
   "outputs": [],
   "source": [
    "# Create the id associated matrix, using the dictionary\n",
    "\n",
    "list_id_is = list_is.copy()\n",
    "\n",
    "for i in range(0,len(list_is)):\n",
    "    item = list_is[i]\n",
    "    if item != \"NULL\":\n",
    "        if item != \"\":\n",
    "            try :\n",
    "                list_id_is[i] = DESTINATION_2[item]\n",
    "            except :\n",
    "                print(\"Ligne #\" \n",
    "                      + str(i+2) \n",
    "                      + \": le programme a rencontré un mot qui n'appartient pas au dictionnaire.\")\n",
    "\n",
    "matrix_id_is = []\n",
    "matrix_id_is.append(list_id_is)"
   ]
  },
  {
   "cell_type": "code",
   "execution_count": null,
   "metadata": {},
   "outputs": [],
   "source": [
    "list_id_from = list_from.copy()\n",
    "\n",
    "for i in range(0,len(list_from)):\n",
    "    item = list_from[i]\n",
    "    if item != \"NULL\":\n",
    "        if item != \"\":\n",
    "            try :\n",
    "                list_id_from[i] = DESTINATION_2[item]\n",
    "            except :\n",
    "                print(\"Ligne #\" \n",
    "                      + str(i+2) \n",
    "                      + \": le programme a rencontré un mot qui n'appartient pas au dictionnaire.\")\n",
    "\n",
    "matrix_id_from = []\n",
    "matrix_id_from.append(list_id_from)"
   ]
  },
  {
   "cell_type": "code",
   "execution_count": null,
   "metadata": {},
   "outputs": [],
   "source": [
    "list_id_to = list_to.copy()\n",
    "\n",
    "for i in range(0,len(list_to)):\n",
    "    item = list_to[i]\n",
    "    if item != \"NULL\":\n",
    "        if item != \"\":\n",
    "            try :\n",
    "                list_id_to[i] = DESTINATION_2[item]\n",
    "            except :\n",
    "                print(\"Ligne #\" \n",
    "                      + str(i+2) \n",
    "                      + \": le programme a rencontré un mot qui n'appartient pas au dictionnaire.\")\n",
    "\n",
    "matrix_id_to = []\n",
    "matrix_id_to.append(list_id_to)"
   ]
  },
  {
   "cell_type": "code",
   "execution_count": null,
   "metadata": {
    "scrolled": false
   },
   "outputs": [],
   "source": [
    "# Update the id column using the id matrix\n",
    "\n",
    "db_contexte.update_values(crange='G2:G415',values=matrix_id_is,majordim='COLUMNS')\n",
    "db_contexte.update_values(crange='I2:I415',values=matrix_id_from,majordim='COLUMNS')\n",
    "db_contexte.update_values(crange='K2:K415',values=matrix_id_to,majordim='COLUMNS')"
   ]
  },
  {
   "cell_type": "markdown",
   "metadata": {},
   "source": [
    "##### B) variable_booleen"
   ]
  },
  {
   "cell_type": "code",
   "execution_count": null,
   "metadata": {},
   "outputs": [],
   "source": [
    "# Acces the worksheet\n",
    "\n",
    "db_variable_booleen = db.worksheet('index',10)\n",
    "\n",
    "\n",
    "# Get the element list\n",
    "\n",
    "list_variable = db_variable_booleen.get_col(3, returnas='matrix', include_tailing_empty=True)\n",
    "list_variable = list_variable[1:]"
   ]
  },
  {
   "cell_type": "code",
   "execution_count": null,
   "metadata": {},
   "outputs": [],
   "source": [
    "# Create the id associated matrix, using the dictionary\n",
    "\n",
    "list_id_variable = list_variable.copy()\n",
    "\n",
    "for i in range(0,len(list_variable)):\n",
    "    item = list_variable[i]\n",
    "    if item != \"NULL\":\n",
    "        if item != \"\":\n",
    "            try :\n",
    "                list_id_variable[i] = VARIABLE[item]\n",
    "            except :\n",
    "                print(\"Ligne #\" \n",
    "                      + str(i+2) \n",
    "                      + \": le programme a rencontré un mot qui n'appartient pas au dictionnaire.\")\n",
    "\n",
    "matrix_id_variable = []\n",
    "matrix_id_variable.append(list_id_variable)"
   ]
  },
  {
   "cell_type": "code",
   "execution_count": null,
   "metadata": {},
   "outputs": [],
   "source": [
    "# Update the id column using the id matrix\n",
    "\n",
    "db_variable_booleen.update_values(crange='D2:D90',values=matrix_id_variable,majordim='COLUMNS')"
   ]
  },
  {
   "cell_type": "markdown",
   "metadata": {},
   "source": [
    "##### C) variable_formule"
   ]
  },
  {
   "cell_type": "code",
   "execution_count": null,
   "metadata": {},
   "outputs": [],
   "source": [
    "# Acces the worksheet\n",
    "\n",
    "db_variable_formule = db.worksheet('index',11)\n",
    "\n",
    "\n",
    "# Get the element list\n",
    "\n",
    "list_variable_f = db_variable_formule.get_col(3, returnas='matrix', include_tailing_empty=True)\n",
    "list_variable_f = list_variable_f[1:]"
   ]
  },
  {
   "cell_type": "code",
   "execution_count": null,
   "metadata": {},
   "outputs": [],
   "source": [
    "# Create the id associated matrix, using the dictionary\n",
    "\n",
    "list_id_variable_f = list_variable_f.copy()\n",
    "\n",
    "for i in range(0,len(list_variable_f)):\n",
    "    item = list_variable_f[i]\n",
    "    if item != \"NULL\":\n",
    "        if item != \"\":\n",
    "            try :\n",
    "                list_id_variable_f[i] = VARIABLE[item]\n",
    "            except :\n",
    "                print(\"Ligne #\" \n",
    "                      + str(i+2) \n",
    "                      + \": le programme a rencontré un mot qui n'appartient pas au dictionnaire.\")\n",
    "\n",
    "matrix_id_variable_f = []\n",
    "matrix_id_variable_f.append(list_id_variable_f)"
   ]
  },
  {
   "cell_type": "code",
   "execution_count": null,
   "metadata": {},
   "outputs": [],
   "source": [
    "# Update the id column using the id matrix\n",
    "\n",
    "db_variable_formule.update_values(crange='D2:D90',values=matrix_id_variable_f,majordim='COLUMNS')"
   ]
  },
  {
   "cell_type": "markdown",
   "metadata": {},
   "source": [
    "##### D) action (2)"
   ]
  },
  {
   "cell_type": "code",
   "execution_count": 5,
   "metadata": {},
   "outputs": [],
   "source": [
    "# Acces the worksheet\n",
    "\n",
    "db_action = db.worksheet('index',6)\n",
    "\n",
    "\n",
    "# Get the element list \"valeur de controle\"\n",
    "\n",
    "list_vdc_1 = db_action.get_col(2, returnas='matrix', include_tailing_empty=True)\n",
    "list_vdc_1 = list_vdc_1[1:]\n",
    "\n",
    "\n",
    "# Get the element list \"variable\"\n",
    "\n",
    "list_variable_1 = db_action.get_col(15, returnas='matrix', include_tailing_empty=True)\n",
    "list_variable_1 = list_variable_1[1:]\n",
    "\n",
    "list_variable_2 = db_action.get_col(18, returnas='matrix', include_tailing_empty=True)\n",
    "list_variable_2 = list_variable_2[1:]"
   ]
  },
  {
   "cell_type": "code",
   "execution_count": 6,
   "metadata": {},
   "outputs": [],
   "source": [
    "# Create the id associated matrix, using the dictionary\n",
    "\n",
    "list_id_variable_1 = list_variable_1.copy()\n",
    "\n",
    "for i in range(0,len(list_variable_1)):\n",
    "    item = list_variable_1[i]\n",
    "    if item != \"NULL\":\n",
    "        if item != \"\":\n",
    "            try :\n",
    "                list_id_variable_1[i] = VARIABLE[item]\n",
    "            except :\n",
    "                print(\"Ligne #\" \n",
    "                      + str(i+2) \n",
    "                      + \": le programme a rencontré un mot qui n'appartient pas au dictionnaire.\")\n",
    "\n",
    "matrix_id_variable_1 = []\n",
    "matrix_id_variable_1.append(list_id_variable_1)"
   ]
  },
  {
   "cell_type": "code",
   "execution_count": 7,
   "metadata": {},
   "outputs": [],
   "source": [
    "# Create the id associated matrix, using the dictionary\n",
    "\n",
    "list_id_variable_2 = list_variable_2.copy()\n",
    "\n",
    "for i in range(0,len(list_variable_2)):\n",
    "    item = list_variable_2[i]\n",
    "    if item != \"NULL\":\n",
    "        if item != \"\":\n",
    "            try :\n",
    "                list_id_variable_2[i] = VARIABLE[item]\n",
    "            except :\n",
    "                print(\"Ligne #\" \n",
    "                      + str(i+2) \n",
    "                      + \": le programme a rencontré un mot qui n'appartient pas au dictionnaire.\")\n",
    "\n",
    "matrix_id_variable_2 = []\n",
    "matrix_id_variable_2.append(list_id_variable_2)"
   ]
  },
  {
   "cell_type": "code",
   "execution_count": 8,
   "metadata": {},
   "outputs": [],
   "source": [
    "# Create the id associated matrix, using the dictionary\n",
    "\n",
    "list_id_vdc_1 = list_vdc_1.copy()\n",
    "\n",
    "for i in range(0,len(list_vdc_1)):\n",
    "    item = list_vdc_1[i]\n",
    "    if item != \"NULL\":\n",
    "        if item != \"\":\n",
    "            try :\n",
    "                list_id_vdc_1[i] = VDC[item]\n",
    "            except :\n",
    "                print(\"Ligne #\" \n",
    "                      + str(i+2) \n",
    "                      + \": le programme a rencontré un mot qui n'appartient pas au dictionnaire.\")\n",
    "\n",
    "matrix_id_vdc_1 = []\n",
    "matrix_id_vdc_1.append(list_id_vdc_1)"
   ]
  },
  {
   "cell_type": "code",
   "execution_count": 9,
   "metadata": {},
   "outputs": [],
   "source": [
    "# Update the id column using the id matrix\n",
    "\n",
    "db_action.update_values(crange='P2:P380',values=matrix_id_variable_1,majordim='COLUMNS')\n",
    "db_action.update_values(crange='S2:S380',values=matrix_id_variable_2,majordim='COLUMNS')\n",
    "db_action.update_values(crange='C2:C380',values=matrix_id_vdc_1,majordim='COLUMNS')"
   ]
  },
  {
   "cell_type": "code",
   "execution_count": null,
   "metadata": {},
   "outputs": [],
   "source": []
  }
 ],
 "metadata": {
  "kernelspec": {
   "display_name": "Python 3",
   "language": "python",
   "name": "python3"
  },
  "language_info": {
   "codemirror_mode": {
    "name": "ipython",
    "version": 3
   },
   "file_extension": ".py",
   "mimetype": "text/x-python",
   "name": "python",
   "nbconvert_exporter": "python",
   "pygments_lexer": "ipython3",
   "version": "3.6.4"
  }
 },
 "nbformat": 4,
 "nbformat_minor": 2
}
