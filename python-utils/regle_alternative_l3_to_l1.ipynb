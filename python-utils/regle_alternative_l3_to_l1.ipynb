{
 "cells": [
  {
   "cell_type": "code",
   "execution_count": 1,
   "metadata": {},
   "outputs": [
    {
     "name": "stdout",
     "output_type": "stream",
     "text": [
      "Python_parser is now connected with Drive API and Sheets API.\n",
      "\n",
      "\n",
      "Generation completed\n"
     ]
    }
   ],
   "source": [
    "import pygsheets\n",
    "gc = pygsheets.authorize(service_file='/Users/stephaneblondellarougery/Desktop/client_secret/client_secret_python_utils.json')\n",
    "print('Python_parser is now connected with Drive API and Sheets API.\\n')    \n",
    "\n",
    "# define the spreadsheets to open\n",
    "db = gc.open(\"db_plu\")\n",
    "\n",
    "print('\\nGeneration completed')"
   ]
  },
  {
   "cell_type": "code",
   "execution_count": 2,
   "metadata": {},
   "outputs": [],
   "source": [
    "l3_l2 = db.worksheet('index',7)\n",
    "l2_l1 = db.worksheet('index',8)\n",
    "\n",
    "m_3_2 = l3_l2.get_all_values()\n",
    "m_2_1 = l2_l1.get_all_values()"
   ]
  },
  {
   "cell_type": "code",
   "execution_count": 5,
   "metadata": {},
   "outputs": [],
   "source": [
    "def get_all_rules(regle_3):\n",
    "    r = []\n",
    "    intermediate = []\n",
    "    \n",
    "    for row in m_3_2:\n",
    "        if row[0] == regle_3:\n",
    "            intermediate.append(row[1])\n",
    "            \n",
    "    for regle_2 in intermediate:\n",
    "        for row in m_2_1:\n",
    "            if row[0] == regle_2:\n",
    "                r.append(row[1])\n",
    "    \n",
    "    return r"
   ]
  },
  {
   "cell_type": "code",
   "execution_count": 7,
   "metadata": {},
   "outputs": [
    {
     "data": {
      "text/plain": [
       "[]"
      ]
     },
     "execution_count": 7,
     "metadata": {},
     "output_type": "execute_result"
    }
   ],
   "source": [
    "get_all_rules(24)"
   ]
  },
  {
   "cell_type": "code",
   "execution_count": null,
   "metadata": {},
   "outputs": [],
   "source": []
  }
 ],
 "metadata": {
  "kernelspec": {
   "display_name": "Python 3",
   "language": "python",
   "name": "python3"
  },
  "language_info": {
   "codemirror_mode": {
    "name": "ipython",
    "version": 3
   },
   "file_extension": ".py",
   "mimetype": "text/x-python",
   "name": "python",
   "nbconvert_exporter": "python",
   "pygments_lexer": "ipython3",
   "version": "3.6.4"
  }
 },
 "nbformat": 4,
 "nbformat_minor": 2
}
